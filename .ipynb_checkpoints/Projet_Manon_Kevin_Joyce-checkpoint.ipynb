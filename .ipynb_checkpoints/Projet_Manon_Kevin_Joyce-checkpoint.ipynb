{
 "cells": [
  {
   "cell_type": "markdown",
   "metadata": {},
   "source": [
    "# Mini rapport\n",
    "\n",
    "Les difficultés consistaient surtout à se mettre d'accord au sein du groupe, notamment sur quelles variables (colonnes) garder et/ou supprimer par rapport à ce que l'on voulait faire.\n",
    "Il y aussi eu certaines difficultés à faire correspondre les valeurs du dataset avec les valeurs de création de carte ; ce qui peut être dû à notre manque de connaissance en Python, donc des méthodes utilisées pour générer les cartes correspondantes, il y a dû avoir des pertes d'informations entre ces processus.\n",
    "De plus, avec ces incertitudes, les recherches que nous voulions effectuer n'étaient pas toujours possibles, car les valeurs (donc les résultats) n'étaient pas exploitables, et/ou sortaient des résultats pas cohérents. Les résultats/tendances obtenu(s) n'étaient pas toujours faciles à expliquer, car beaucoup de facteurs qui peuvent nous être inconnus doivent entrer en jeu.\n",
    "\n",
    "## Contribution\n",
    "Manon : 33% ; Kevin : 33% ; Joyce : 33%"
   ]
  },
  {
   "cell_type": "markdown",
   "metadata": {
    "id": "TmevT1rk_-IK"
   },
   "source": [
    "# 1. Chargement des données"
   ]
  },
  {
   "cell_type": "code",
   "execution_count": 1,
   "metadata": {
    "id": "v-uYnam5sYrk"
   },
   "outputs": [],
   "source": [
    "import pandas as pd\n",
    "import matplotlib.pyplot as plt\n",
    "import plotly.express as px\n",
    "#import chart_studio.plotly as py\n",
    "import plotly.offline as pyo\n",
    "pd.options.mode.chained_assignment = None  # default='warn'\n",
    "\n",
    "from urllib.request import urlopen\n",
    "import json\n",
    "with urlopen('https://france-geojson.gregoiredavid.fr/repo/departements.geojson') as response:\n",
    "    departement = json.load(response)\n",
    "\n",
    "from urllib.request import urlopen\n",
    "import json\n",
    "with urlopen('https://france-geojson.gregoiredavid.fr/repo/regions.geojson') as response:\n",
    "    region = json.load(response)"
   ]
  },
  {
   "cell_type": "markdown",
   "metadata": {
    "id": "Pzlcv7hla8Mr"
   },
   "source": [
    "Lors de cette analyse, on se concentrera sur une comparaison des valeurs foncières récentes contre celle pré-Covid. On analysera donc principalement les datasets des valeurs foncières de 2019, l'année précédant la crise du Covid, et celles de 2022, l'année fraîchement terminée."
   ]
  },
  {
   "cell_type": "code",
   "execution_count": 2,
   "metadata": {},
   "outputs": [],
   "source": [
    "foncier2019 = pd.read_csv(\"Data/valeursfoncieres-2019.txt\",low_memory=False, sep='|')"
   ]
  },
  {
   "cell_type": "code",
   "execution_count": 3,
   "metadata": {},
   "outputs": [],
   "source": [
    "foncier2020 = pd.read_csv(\"Data/valeursfoncieres-2020.txt\",low_memory=False, sep='|')"
   ]
  },
  {
   "cell_type": "code",
   "execution_count": null,
   "metadata": {},
   "outputs": [],
   "source": [
    "foncier2021 = pd.read_csv(\"Data/valeursfoncieres-2021.txt\",low_memory=False, sep='|')"
   ]
  },
  {
   "cell_type": "code",
   "execution_count": null,
   "metadata": {},
   "outputs": [],
   "source": [
    "foncier2022 = pd.read_csv(\"Data/valeursfoncieres-2022.txt\", low_memory=False, sep=\"|\")"
   ]
  },
  {
   "cell_type": "code",
   "execution_count": null,
   "metadata": {
    "id": "ivE-ZKA7VDZ8"
   },
   "outputs": [],
   "source": [
    "datasets = [foncier2019,foncier2020,foncier2021,foncier2022]\n"
   ]
  },
  {
   "cell_type": "markdown",
   "metadata": {
    "id": "EIFF2rtX-rhh"
   },
   "source": [
    "# 2. Nettoyage des données\n",
    "###### Détection et suppression des valeurs manquantes/Suppression des doublons/Gestion des valeurs \"extrêmes\""
   ]
  },
  {
   "cell_type": "markdown",
   "metadata": {
    "id": "l63hTd1MVmbC"
   },
   "source": [
    "Après réflexion, plusieurs colonnes présentes dans le dataset initial ne nous servent pas dans l'analyse que nous voulons effectuer ; cette dernière se portant majoritairement sur le prix moyen du mètre carré d'un département d'une ville, comparaison entre différents type, appart, maison, geomap, différence entre ville, départements, régions,...\n",
    "On \"nettoie\" donc les datasets en supprimant les colonnes \"inutiles\", en supprimant les lignes contenant des valeurs nulle, puis en convertissant les données recueillies en type lisible et exploitable par le compilateur Python."
   ]
  },
  {
   "cell_type": "markdown",
   "metadata": {},
   "source": [
    "## Nettoyage"
   ]
  },
  {
   "cell_type": "code",
   "execution_count": null,
   "metadata": {
    "id": "-4FnKNyU2Bu2"
   },
   "outputs": [],
   "source": [
    "# On parcourt les datasets présents dans la liste créée précédemment\n",
    "for i in range(len(datasets)):\n",
    "    df=datasets[i]\n",
    "    \n",
    "    # Suppression des colonnes \"inutiles\"\n",
    "    df = df.drop(['Identifiant de document', '1 Articles CGI', \n",
    "                   '2 Articles CGI', '3 Articles CGI', '4 Articles CGI', \n",
    "                   '5 Articles CGI', 'Reference document', 'No disposition', \n",
    "                   'No voie', 'B/T/Q', 'Code voie', 'Prefixe de section', \n",
    "                   'Section', 'No plan', 'No Volume', '1er lot', \n",
    "                   'Surface Carrez du 1er lot', '2eme lot', \n",
    "                   'Surface Carrez du 2eme lot', '3eme lot', \n",
    "                   'Surface Carrez du 3eme lot', '4eme lot', \n",
    "                   'Surface Carrez du 4eme lot', '5eme lot', \n",
    "                   'Surface Carrez du 5eme lot', 'Code type local', \n",
    "                   'Identifiant local', 'Nature culture', \n",
    "                   'Nature culture speciale'], axis=1)\n",
    "\n",
    "    # Suppression des lignes contenant des valeurs nulles (non exploitables)\n",
    "    df = df.dropna()\n",
    "\n",
    "    # Conversion des colonnes en leur type de données approprié\n",
    "    df['Date mutation'] = pd.to_datetime(df['Date mutation'], format='%d/%m/%Y')\n",
    "    df['Valeur fonciere'] = pd.to_numeric(df['Valeur fonciere'].str.replace(',', '.'))\n",
    "    df['Surface reelle bati'] = df['Surface reelle bati'].astype('int')\n",
    "    df['Nombre pieces principales'] = df['Nombre pieces principales'].astype('int')\n",
    "    df['Surface terrain'] = df['Surface terrain'].astype('int')\n",
    "\n",
    "    # Correction du format des codes postaux \n",
    "    df[\"Code postal\"] = df[\"Code postal\"].apply(lambda x: \"0\" + str(x).split('.')[0] if len(str(x).split('.')[0]) == 4 else str(x).split('.')[0])\n",
    "\n",
    "    datasets[i] = df"
   ]
  },
  {
   "cell_type": "code",
   "execution_count": null,
   "metadata": {
    "id": "PQ1oaMCpapTj"
   },
   "outputs": [],
   "source": [
    "# On déclare des variables pour stocker les DataFrames pour faciliter les interprétations suivantes\n",
    "foncier2019 = datasets[0]\n",
    "foncier2021 = datasets[1]\n",
    "foncier2022 = datasets[2]\n",
    "foncier2022 = datasets[3]"
   ]
  },
  {
   "cell_type": "code",
   "execution_count": null,
   "metadata": {
    "id": "6rU354N1ap9L"
   },
   "outputs": [],
   "source": [
    "foncier2019"
   ]
  },
  {
   "cell_type": "code",
   "execution_count": null,
   "metadata": {
    "id": "QJSvxLtFaqGi"
   },
   "outputs": [],
   "source": [
    "foncier2022"
   ]
  },
  {
   "cell_type": "markdown",
   "metadata": {},
   "source": [
    "## Modification"
   ]
  },
  {
   "cell_type": "code",
   "execution_count": null,
   "metadata": {},
   "outputs": [],
   "source": [
    "foncier2022=foncier2022.dropna(axis=0,subset=['Valeur fonciere','Surface terrain'])\n",
    "foncier2022=foncier2022[foncier2022['Surface terrain'] != 0]"
   ]
  },
  {
   "cell_type": "code",
   "execution_count": null,
   "metadata": {},
   "outputs": [],
   "source": [
    "#Pour les cartes :\n",
    "foncier2022['Code departement'].astype(str)\n",
    "\n",
    "def CodeRegion(codeDep):\n",
    "    if codeDep==\"01\" or codeDep==\"03\" or codeDep==\"07\" or codeDep==\"15\" or codeDep==\"26\" or codeDep==\"38\" or codeDep==\"42\" or codeDep==\"43\" or codeDep==\"63\" or codeDep==\"69\" or codeDep==\"73\" or codeDep==\"74\":\n",
    "        return \"84\"\n",
    "    elif codeDep==\"02\" or codeDep==\"59\" or codeDep==\"60\" or codeDep==\"62\" or codeDep==\"80\":\n",
    "        return \"32\"\n",
    "    elif codeDep==\"04\" or codeDep==\"05\" or codeDep==\"06\" or codeDep==\"13\" or codeDep==\"83\" or codeDep==\"84\":\n",
    "        return \"93\"\n",
    "    elif codeDep==\"08\" or codeDep==\"10\" or codeDep==\"51\" or codeDep==\"52\" or codeDep==\"54\" or codeDep==\"55\" or codeDep==\"57\" or codeDep==\"67\" or codeDep==\"68\" or codeDep==\"88\":\n",
    "        return \"44\"\n",
    "    elif codeDep==\"09\" or codeDep==\"11\" or codeDep==\"12\" or codeDep==\"30\" or codeDep==\"31\" or codeDep==\"32\" or codeDep==\"34\" or codeDep==\"46\" or codeDep==\"48\" or codeDep==\"65\" or codeDep==\"66\" or codeDep==\"81\" or codeDep==\"82\":\n",
    "        return \"76\"\n",
    "    elif codeDep==\"14\" or codeDep==\"27\" or codeDep==\"50\" or codeDep==\"61\" or codeDep==\"76\" or codeDep==\"14\":\n",
    "        return \"28\"\n",
    "    elif codeDep==\"16\" or codeDep==\"17\" or codeDep==\"17\" or codeDep==\"19\" or codeDep==\"23\" or codeDep==\"24\" or codeDep==\"33\" or codeDep==\"40\" or codeDep==\"47\" or codeDep==\"64\" or codeDep==\"79\" or codeDep==\"86\" or codeDep==\"87\":\n",
    "        return \"75\"\n",
    "    elif codeDep==\"18\" or codeDep==\"28\" or codeDep==\"36\" or codeDep==\"37\" or codeDep==\"41\" or codeDep==\"45\":\n",
    "        return \"24\"\n",
    "    elif codeDep==\"2A\" or codeDep==\"2B\":\n",
    "        return \"94\"\n",
    "    elif codeDep==\"21\" or codeDep==\"25\" or codeDep==\"39\" or codeDep==\"58\" or codeDep==\"70\" or codeDep==\"71\" or codeDep==\"89\" or codeDep==\"90\":\n",
    "        return \"27\"\n",
    "    elif codeDep==\"22\" or codeDep==\"29\" or codeDep==\"35\" or codeDep==\"56\":\n",
    "        return \"53\"\n",
    "    elif codeDep==\"44\" or codeDep==\"49\" or codeDep==\"53\" or codeDep==\"72\" or codeDep==\"85\":\n",
    "        return \"52\"\n",
    "    elif codeDep==\"75\" or codeDep==\"77\" or codeDep==\"78\" or codeDep==\"91\" or codeDep==\"92\" or codeDep==\"93\" or codeDep==\"94\" or codeDep==\"95\":\n",
    "        return \"11\"\n",
    "    elif codeDep==\"971\":\n",
    "        return \"01\"\n",
    "    elif codeDep==\"972\":\n",
    "        return \"02\"\n",
    "    elif codeDep==\"973\":\n",
    "        return \"03\"\n",
    "    elif codeDep==\"974\":\n",
    "        return \"04\"\n",
    "    \n",
    "    \n",
    "\n",
    "foncier2022['Code région']=foncier2022['Code departement'].apply(CodeRegion)"
   ]
  },
  {
   "cell_type": "markdown",
   "metadata": {
    "id": "KFHUzjOFBKzl"
   },
   "source": [
    "# 3. Interprétation des données\n",
    "Prix moyen du mètre carré d'un département d'une ville, comparaison entre différents type, appart, maison, geomap, différence entre ville, départements, régions,...\n"
   ]
  },
  {
   "cell_type": "markdown",
   "metadata": {
    "id": "ssduY9rtY-4-"
   },
   "source": [
    "## Graphiques de l'évolution des ventes entre 2019 et 2022"
   ]
  },
  {
   "cell_type": "code",
   "execution_count": null,
   "metadata": {
    "id": "7v5tvi6IYvnK",
    "scrolled": true
   },
   "outputs": [],
   "source": [
    "#EVOLUTION DU NB DE VENTES SELONS LES MOIS EN 2019\n",
    "import matplotlib.pyplot as plt\n",
    "\n",
    "# Ajouter une colonne 'Mois' au DataFrame\n",
    "foncier2019['Mois'] = foncier2019['Date mutation'].dt.month\n",
    "\n",
    "# Compter le nombre de ventes par mois\n",
    "ventes_par_mois = foncier2019.groupby('Mois')['Date mutation'].count().reset_index()\n",
    "\n",
    "# Créer un graphique d'évolution des ventes selon les mois\n",
    "plt.figure(figsize=(10, 5))\n",
    "plt.plot(ventes_par_mois['Mois'], ventes_par_mois['Date mutation'])\n",
    "plt.xlabel('Mois')\n",
    "plt.ylabel('Nombre de ventes')\n",
    "plt.title(\"Évolution des ventes selon les mois en 2019\")\n",
    "plt.xticks(range(1, 13))\n",
    "plt.grid()\n",
    "plt.show()"
   ]
  },
  {
   "cell_type": "markdown",
   "metadata": {},
   "source": [
    "Baisse des ventes en août, hausse des ventes juste avant les vacances d'été et celles de Noël ; ce qui est logique car les acheteurs ont plus de temps pour faire les démarches administratives, ces vacances étant les plus longues."
   ]
  },
  {
   "cell_type": "code",
   "execution_count": null,
   "metadata": {
    "colab": {
     "base_uri": "https://localhost:8080/",
     "height": 487
    },
    "id": "h4DgSpt6kEz9",
    "outputId": "f08d45bb-ea73-4e6e-c1de-0f9ae96c105a",
    "scrolled": true
   },
   "outputs": [],
   "source": [
    "#EVOLUTION DU NB DE VENTES SELONS LES MOIS EN 2022\n",
    "import matplotlib.pyplot as plt\n",
    "\n",
    "# Ajouter une colonne 'Mois' au DataFrame\n",
    "foncier2022['Mois'] = foncier2022['Date mutation'].dt.month\n",
    "\n",
    "# Compter le nombre de ventes par mois\n",
    "ventes_par_mois = foncier2022.groupby('Mois')['Date mutation'].count().reset_index()\n",
    "\n",
    "# Créer un graphique d'évolution des ventes selon les mois\n",
    "plt.figure(figsize=(10, 5))\n",
    "plt.plot(ventes_par_mois['Mois'], ventes_par_mois['Date mutation'])\n",
    "plt.xlabel('Mois')\n",
    "plt.ylabel('Nombre de ventes')\n",
    "plt.title(\"Évolution des ventes selon les mois en 2022\")\n",
    "plt.xticks(range(1, 13))\n",
    "plt.grid()\n",
    "plt.show()"
   ]
  },
  {
   "cell_type": "markdown",
   "metadata": {},
   "source": [
    "On remarque un pic des ventes aux mois de juin et juillet, juste avant les vacances d'été.\n",
    "Les baisses suivantes peuvent être expliquées par les dégâts de la guerre en Ukraine, qui a débuté en février 2022 ; ce qui a causé sur le long terme une augmentation du prix de l'immobilier couplée aux débuts de l'inflation.\n",
    "La baisse des ventes entre septembre et novembre peut notamment être expliquée par l'augmentation des prix du gaz (qui impacte également ceux de l'électricité), qui aurait pu dissuader les nouveaux acheteurs dans leur aventure. "
   ]
  },
  {
   "cell_type": "code",
   "execution_count": null,
   "metadata": {},
   "outputs": [],
   "source": [
    "#EVOLUTION DES VENTES SELONS LES MOIS 2019-2022\n",
    "import matplotlib.pyplot as plt\n",
    "\n",
    "def ventes_par_mois(df, year):\n",
    "    df['Date mutation'] = pd.to_datetime(df['Date mutation'], format='%d/%m/%Y') #convertit au cas où précédent pas excécuté\n",
    "    df['Mois'] = df['Date mutation'].dt.month #récupère uniquement le mois\n",
    "    ventes_par_mois = df.groupby('Mois')['Date mutation'].count().reset_index() #regroupe par mois et compte le nb d'élément (vente)\n",
    "    ventes_par_mois.columns = ['Mois', f'Ventes {year}']\n",
    "    return ventes_par_mois\n",
    "\n",
    "# Préparer les données et extraire le nombre de ventes par mois pour chaque année\n",
    "ventes_par_mois_2019 = ventes_par_mois(foncier2019, 2019)\n",
    "ventes_par_mois_2020 = ventes_par_mois(foncier2020, 2020)\n",
    "ventes_par_mois_2021 = ventes_par_mois(foncier2021, 2021)\n",
    "ventes_par_mois_2022 = ventes_par_mois(foncier2022, 2022)\n",
    "\n",
    "# Tracer les courbes sur le même graphique\n",
    "plt.figure(figsize=(10, 5))\n",
    "plt.plot(ventes_par_mois_2019['Mois'], ventes_par_mois_2019['Ventes 2019'], label='2019')\n",
    "plt.plot(ventes_par_mois_2020['Mois'], ventes_par_mois_2020['Ventes 2020'], label='2020')\n",
    "plt.plot(ventes_par_mois_2021['Mois'], ventes_par_mois_2021['Ventes 2021'], label='2021')\n",
    "plt.plot(ventes_par_mois_2022['Mois'], ventes_par_mois_2022['Ventes 2022'], label='2022')\n",
    "\n",
    "plt.xlabel('Mois')\n",
    "plt.ylabel('Nombre de ventes')\n",
    "plt.title(\"Évolution des ventes selon les mois (2019-2022)\")\n",
    "plt.xticks(range(1, 13))\n",
    "plt.grid()\n",
    "plt.legend()\n",
    "plt.show()"
   ]
  },
  {
   "cell_type": "markdown",
   "metadata": {},
   "source": [
    "Pour l'année 2020, on peut voir une certaine incohérence dans la courbe représentative de l'année 2020, donc on ne l'utilisera pas lors de nos prochaines analyses. On peut constater une baisse significative en 2020 lors de la période de confinement\n",
    "\n",
    "Globalement, on observe toujours une hausse des ventes aux mois de juin/juillet et décembre."
   ]
  },
  {
   "cell_type": "markdown",
   "metadata": {},
   "source": [
    "## Comparaison du prix moyen entre 2019 et 2022"
   ]
  },
  {
   "cell_type": "code",
   "execution_count": null,
   "metadata": {},
   "outputs": [],
   "source": [
    "foncier2019=foncier2019.dropna(axis=1,thresh=500000)\n",
    "foncier2019=foncier2019.drop_duplicates()\n",
    "\n",
    "foncier2019['Code departement'].astype(str)\n",
    "foncier2019['Code région']=foncier2019['Code departement'].apply(CodeRegion)\n",
    "\n",
    "foncier2019"
   ]
  },
  {
   "cell_type": "code",
   "execution_count": null,
   "metadata": {},
   "outputs": [],
   "source": [
    "prix_moyen_2019 = foncier2019['Valeur fonciere'].mean()\n",
    "prix_moyen_2022 = foncier2022['Valeur fonciere'].mean()\n",
    "diff_prix_moyen = prix_moyen_2022 - prix_moyen_2019\n",
    "diff_prix_moyen"
   ]
  },
  {
   "cell_type": "code",
   "execution_count": null,
   "metadata": {
    "scrolled": true
   },
   "outputs": [],
   "source": [
    "labels = ['2019', '2022']\n",
    "values = [prix_moyen_2019, prix_moyen_2022]\n",
    "\n",
    "fig = px.bar(x=labels, y=values, labels={'x':'Année', 'y':'Prix moyen'}, title='Comparaison du prix moyen')\n",
    "fig.show()"
   ]
  },
  {
   "cell_type": "markdown",
   "metadata": {},
   "source": [
    "On constate une hausse du prix moyen des valeurs foncières en 2022 comparé à 2019, environ égale à 235 800 €. Ce qui est logique vu l'augmentation des prix de l'immobilier dû notamment à la crise du Covid."
   ]
  },
  {
   "cell_type": "code",
   "execution_count": null,
   "metadata": {
    "scrolled": true
   },
   "outputs": [],
   "source": [
    "# VALEUR FONCIERE MOYENNE PAR DEPARTEMENT\n",
    "# Calcul de la valeur fonciere moyenne par departement\n",
    "foncier2022['Valeur fonciere']=foncier2022['Valeur fonciere'].replace(',','.',regex=True).astype(float)\n",
    "d=pd.DataFrame(foncier2022.groupby(foncier2022[\"Code departement\"]),foncier2022.groupby(foncier2022[\"Code departement\"]).mean()[\"Valeur fonciere\"])\n",
    "\n",
    "dep_vf=d.reset_index()\n",
    "dep_vf=dep_vf.rename(columns={0 : \"Département\"})\n",
    "dep_vf=dep_vf.drop(columns=[1])\n",
    "\n",
    "dep_vf.sort_values(by=['Valeur fonciere'], inplace=True, ascending=False)\n",
    "\n",
    "dep_vf=dep_vf.reset_index()\n",
    "\n",
    "\n",
    "#Affichage de la carte\n",
    "fig = px.choropleth_mapbox(dep_vf, geojson=departement, locations='Département', color='Valeur fonciere',\n",
    "                           color_continuous_scale=\"Viridis\",\n",
    "                           range_color=(0,1000000),  # ajustez cette plage en fonction de la plage de vos données\n",
    "                           mapbox_style='carto-positron',\n",
    "                           featureidkey=\"properties.code\",\n",
    "                           zoom=4,\n",
    "                           center={'lat': 47, 'lon': 2},\n",
    "                           opacity=0.8,)\n",
    "\n",
    "pyo.iplot(fig,filename='jupyter-Valeur fonciere en france')"
   ]
  },
  {
   "cell_type": "markdown",
   "metadata": {},
   "source": [
    "On note que l'immobilier est beaucoup plus cher à Paris, aux alentours de Paris et au sein des autres métropoles françaises, telles que Bordeaux, Lyon, etc. Notamment les département côtiers. On peut expliquer ceci par l'intérêt professionnel et/ou touristiques. Egalement par la densité de population de ces départements."
   ]
  },
  {
   "cell_type": "markdown",
   "metadata": {},
   "source": [
    "## Répartition des ventes en France"
   ]
  },
  {
   "cell_type": "markdown",
   "metadata": {},
   "source": [
    "### Nombre de ventes par département"
   ]
  },
  {
   "cell_type": "code",
   "execution_count": null,
   "metadata": {
    "scrolled": false
   },
   "outputs": [],
   "source": [
    "# Groupement des ventes par département\n",
    "ventes_par_departement_2019 = foncier2019.groupby(\"Code departement\").size().reset_index(name=\"Nombre de ventes\")\n",
    "\n",
    "fig = px.choropleth_mapbox(ventes_par_departement_2019, geojson=departement,\n",
    "    locations=\"Code departement\",\n",
    "    color=\"Nombre de ventes\",\n",
    "    color_continuous_scale=\"Viridis\",\n",
    "    mapbox_style=\"carto-positron\",\n",
    "    featureidkey=\"properties.code\",\n",
    "    center={\"lat\": 46.603354, \"lon\": 1.888334},\n",
    "    zoom=5,\n",
    "    opacity=0.7,\n",
    "    labels={\"Nombre de ventes\": \"Nombre de ventes\"})\n",
    "\n",
    "fig.update_layout(title=\"Répartition des ventes en France en 2019\")\n",
    "fig.show()"
   ]
  },
  {
   "cell_type": "code",
   "execution_count": null,
   "metadata": {},
   "outputs": [],
   "source": [
    "# Groupement des ventes par département\n",
    "ventes_par_departement_2022 = foncier2022.groupby(\"Code departement\").size().reset_index(name=\"Nombre de ventes\")\n",
    "\n",
    "fig = px.choropleth_mapbox(ventes_par_departement_2022, geojson=departement,\n",
    "    locations=\"Code departement\",\n",
    "    color=\"Nombre de ventes\",\n",
    "    color_continuous_scale=\"Viridis\",\n",
    "    mapbox_style=\"carto-positron\",\n",
    "    featureidkey=\"properties.code\",\n",
    "    center={\"lat\": 46.603354, \"lon\": 1.888334},\n",
    "    zoom=5,\n",
    "    opacity=0.7,\n",
    "    labels={\"Nombre de ventes\": \"Nombre de ventes\"})\n",
    "\n",
    "fig.update_layout(title=\"Répartition des ventes en France en 2022\")\n",
    "fig.show()"
   ]
  },
  {
   "cell_type": "markdown",
   "metadata": {},
   "source": [
    "### Nombre de ventes en ile de France"
   ]
  },
  {
   "cell_type": "code",
   "execution_count": null,
   "metadata": {},
   "outputs": [],
   "source": [
    "# Filtrer les données pour l'Île-de-France uniquement\n",
    "idf_data_2019 = foncier2019[foncier2019['Code région']=='11']\n",
    "idf_data_2022 = foncier2022[foncier2022['Code région']=='11']"
   ]
  },
  {
   "cell_type": "code",
   "execution_count": null,
   "metadata": {
    "scrolled": true
   },
   "outputs": [],
   "source": [
    "# Répartition géographique des ventes en Île-de-France en 2019\n",
    "ventes_departement_2019 = idf_data_2019['Code departement'].value_counts()\n",
    "\n",
    "fig = px.choropleth(ventes_departement_2019, geojson=departement, locations=ventes_departement_2019.index,\n",
    "                    color=ventes_departement_2019.values, featureidkey='properties.code',\n",
    "                    projection=\"mercator\", color_continuous_scale=\"Viridis\",\n",
    "                    labels={'color': 'Nombre de ventes'},\n",
    "                    title='Répartition géographique des ventes en Île-de-France en 2019')\n",
    "fig.update_geos(fitbounds=\"locations\", visible=False)\n",
    "fig.show()"
   ]
  },
  {
   "cell_type": "code",
   "execution_count": null,
   "metadata": {
    "scrolled": true
   },
   "outputs": [],
   "source": [
    "# Répartition géographique des ventes en Île-de-France en 2022\n",
    "ventes_departement_2022 = idf_data_2022['Code departement'].value_counts()\n",
    "\n",
    "fig = px.choropleth(ventes_departement_2022, geojson=departement, locations=ventes_departement_2022.index,\n",
    "                    color=ventes_departement_2022.values, featureidkey='properties.code',\n",
    "                    projection=\"mercator\", color_continuous_scale=\"Viridis\",\n",
    "                    labels={'color': 'Nombre de ventes'},\n",
    "                    title='Répartition géographique des ventes en Île-de-France en 2022')\n",
    "fig.update_geos(fitbounds=\"locations\", visible=False)\n",
    "fig.show()"
   ]
  },
  {
   "cell_type": "markdown",
   "metadata": {},
   "source": [
    "Pas trop de changements entre 2019 et 2022. En liant ces données avec la carte de la répartition de la valeur foncière par départements, on remarque que la Seine-et-Marne (77) est le département le moins cher, il est donc logique que les acheteurs se tournent vers ce département pour leurs achats ; ce qui explique le nombre de ventes important. Notamment, ce département est celui avec le plus de surface habitable. Au contraire, Paris est surpeuplé et beaucoup plus cher, d'où le petit nombre de ventes."
   ]
  },
  {
   "cell_type": "markdown",
   "metadata": {},
   "source": [
    "## Etude sur le prix du m²"
   ]
  },
  {
   "cell_type": "markdown",
   "metadata": {},
   "source": [
    "### Par département"
   ]
  },
  {
   "cell_type": "markdown",
   "metadata": {},
   "source": [
    "#### En gardant les valeurs aberrantes"
   ]
  },
  {
   "cell_type": "code",
   "execution_count": null,
   "metadata": {},
   "outputs": [],
   "source": [
    "#PRIX MOYEN DU PRIX DU m² PAR DEPARTEMENT \n",
    "\n",
    "# Filtrer les données pour ne conserver que les ventes\n",
    "ventes = foncier2022[foncier2022['Nature mutation'] == 'Vente']\n",
    "\n",
    "# Créer une nouvelle colonne 'Prix par mètre carré'\n",
    "ventes['Prix par mètre carré'] = ventes['Valeur fonciere'] / ventes['Surface terrain']\n",
    "\n",
    "# Grouper les données par département\n",
    "prix_moyen_par_departement = ventes.groupby('Code departement')['Prix par mètre carré'].mean().reset_index()\n",
    "\n",
    "# Afficher les 10 premières lignes du DataFrame résultant\n",
    "prix_moyen_par_departement.sort_values(by=['Prix par mètre carré'], inplace=True, ascending=False)\n",
    "print(prix_moyen_par_departement.head(10))\n",
    "\n",
    "\n",
    "\n",
    "# Calculer la moyenne nationale du prix par mètre carré\n",
    "moyenne_nationale = ventes['Prix par mètre carré'].mean()\n",
    "\n",
    "print(\"Moyenne nationale du prix du m² en France en 2022 : {:.2f} €\".format(moyenne_nationale))"
   ]
  },
  {
   "cell_type": "code",
   "execution_count": null,
   "metadata": {},
   "outputs": [],
   "source": [
    "labels = prix_moyen_par_departement[\"Code departement\"]\n",
    "values = prix_moyen_par_departement[\"Prix par mètre carré\"]\n",
    "\n",
    "fig = px.bar(x=labels, y=values, labels={'x':'Département', 'y':'Prix au m²'}, title='Comparaison du prix du m²')\n",
    "fig.show()"
   ]
  },
  {
   "cell_type": "markdown",
   "metadata": {},
   "source": [
    "#### Après la suppression des valeurs aberrantes"
   ]
  },
  {
   "cell_type": "code",
   "execution_count": null,
   "metadata": {
    "scrolled": true
   },
   "outputs": [],
   "source": [
    "#PRIX MOYEN DU PRIX DU m² PAR DEPARTEMENT APRES SUPPRESSION DES VALEURS ABERRANTES.\n",
    "\n",
    "import numpy as np\n",
    "\n",
    "# Filtrer les données pour ne conserver que les ventes\n",
    "ventes = foncier2022[foncier2022['Nature mutation'] == 'Vente']\n",
    "\n",
    "# Définir une fonction pour supprimer les valeurs aberrantes dans un DataFrame\n",
    "def remove_outliers(df):\n",
    "    Q1 = df['Prix par mètre carré'].quantile(0.25)\n",
    "    Q3 = df['Prix par mètre carré'].quantile(0.75)\n",
    "    IQR = Q3 - Q1\n",
    "    df_out = df[~((df['Prix par mètre carré'] < (Q1 - 0.9 * IQR)) | (df['Prix par mètre carré'] > (Q3 + 0.9 * IQR)))]\n",
    "    return df_out\n",
    "\n",
    "# Créer une nouvelle colonne 'Prix par mètre carré'\n",
    "ventes['Prix par mètre carré'] = ventes['Valeur fonciere'] / ventes['Surface terrain']\n",
    "\n",
    "# Supprimer les valeurs aberrantes pour chaque département\n",
    "ventes = ventes.groupby('Code departement').apply(remove_outliers).reset_index(drop=True)\n",
    "\n",
    "# Grouper les données par département\n",
    "prix_moyen_par_departement = ventes.groupby('Code departement')['Prix par mètre carré'].mean().reset_index()\n",
    "\n",
    "# Afficher les 10 premières lignes du DataFrame résultant\n",
    "prix_moyen_par_departement.sort_values(by=['Prix par mètre carré'], inplace=True, ascending=False)\n",
    "print(prix_moyen_par_departement.head(10))\n",
    "\n",
    "# Calculer la moyenne nationale du prix par mètre carré\n",
    "moyenne_nationale = ventes['Prix par mètre carré'].mean()\n",
    "\n",
    "print(\"Moyenne nationale du prix du m² en France en 2022 : {:.2f} €\".format(moyenne_nationale))"
   ]
  },
  {
   "cell_type": "code",
   "execution_count": null,
   "metadata": {
    "scrolled": true
   },
   "outputs": [],
   "source": [
    "labels = prix_moyen_par_departement[\"Code departement\"]\n",
    "values = prix_moyen_par_departement[\"Prix par mètre carré\"]\n",
    "\n",
    "fig = px.bar(x=labels, y=values, labels={'x':'Département', 'y':'Prix au m²'}, title='Comparaison du prix du m²')\n",
    "fig.show()"
   ]
  },
  {
   "cell_type": "code",
   "execution_count": null,
   "metadata": {},
   "outputs": [],
   "source": [
    "ventes[\"Prix par mètre carré\"].corr(ventes[\"Valeur fonciere\"])"
   ]
  },
  {
   "cell_type": "markdown",
   "metadata": {},
   "source": [
    "Le département de Paris et sa banlieue (92, 94, etc.) possède le m² le plus cher ; ce qui peut justifier le prix plus important de la valeur foncière dans ces mêmes départements. En effet, on observe une corrélation assez proche de 1 entre le prix par m² et la valeur foncière, ce qui appuie notre raisonnement."
   ]
  },
  {
   "cell_type": "markdown",
   "metadata": {},
   "source": [
    "### Moyenne nationnale du prix du m²"
   ]
  },
  {
   "cell_type": "code",
   "execution_count": null,
   "metadata": {},
   "outputs": [],
   "source": [
    "#Moyenne nationale du prix du m² en France en 2022 (après filtrage des valeurs aberrantes)\n",
    "\n",
    "# Filtrer les données pour ne conserver que les ventes et créer une copie explicite\n",
    "ventes = foncier2022[foncier2022['Nature mutation'] == 'Vente'].copy()\n",
    "\n",
    "# Calculer la surface totale en utilisant la colonne 'Surface réelle bati'\n",
    "ventes['Surface totale'] = ventes['Surface reelle bati']\n",
    "\n",
    "# Filtrer les données pour éliminer les lignes où la surface totale est égale à zéro ou très proche de zéro\n",
    "ventes = ventes[ventes['Surface totale'] > 0.0]\n",
    "\n",
    "# Créer une nouvelle colonne 'Prix par mètre carré'\n",
    "ventes['Prix par mètre carré'] = ventes['Valeur fonciere'] / ventes['Surface totale']\n",
    "\n",
    "# Calculer le premier et troisième quartile (Q1 et Q3) ainsi que l'IQR\n",
    "Q1 = ventes['Prix par mètre carré'].quantile(0.25)\n",
    "Q3 = ventes['Prix par mètre carré'].quantile(0.75)\n",
    "IQR = Q3 - Q1\n",
    "\n",
    "# Filtrer les données pour éliminer les valeurs aberrantes en utilisant l'IQR\n",
    "ventes_iqr = ventes[(ventes['Prix par mètre carré'] >= Q1 - 1.5 * IQR) & (ventes['Prix par mètre carré'] <= Q3 + 1.5 * IQR)]\n",
    "\n",
    "# Calculer la moyenne nationale du prix par mètre carré pour les ventes filtrées\n",
    "moyenne_nationale_filtree = ventes_iqr['Prix par mètre carré'].mean()\n",
    "\n",
    "print(\"Moyenne nationale du prix du m² en France en 2022 (après filtrage des valeurs aberrantes) : {:.2f} €\".format(moyenne_nationale_filtree))\n",
    "\n",
    "import matplotlib.pyplot as plt\n",
    "\n",
    "# Créer un diagramme en boîte à moustaches du prix par mètre carré\n",
    "plt.figure(figsize=(10, 5))\n",
    "plt.boxplot(ventes_iqr['Prix par mètre carré'])\n",
    "plt.ylabel('Prix par mètre carré (€)')\n",
    "plt.title('Diagramme en boîte à moustaches du prix par mètre carré en France en 2022 (après filtrage des valeurs aberrantes)')\n",
    "plt.show()"
   ]
  },
  {
   "cell_type": "markdown",
   "metadata": {},
   "source": [
    "## Etude sur les types de biens"
   ]
  },
  {
   "cell_type": "code",
   "execution_count": null,
   "metadata": {},
   "outputs": [],
   "source": [
    "types_biens_2019 = foncier2019['Type local'].value_counts(normalize=True)*100\n",
    "types_biens_2022 = foncier2022['Type local'].value_counts(normalize=True)*100"
   ]
  },
  {
   "cell_type": "code",
   "execution_count": null,
   "metadata": {},
   "outputs": [],
   "source": [
    "fig = px.pie(types_biens_2019, values=types_biens_2019.values, names=types_biens_2019.index, title='Types de biens en 2019')\n",
    "fig.show()"
   ]
  },
  {
   "cell_type": "code",
   "execution_count": null,
   "metadata": {},
   "outputs": [],
   "source": [
    "fig = px.pie(types_biens_2022, values=types_biens_2022.values, names=types_biens_2022.index, title='Types de biens en 2022')\n",
    "fig.show()"
   ]
  },
  {
   "cell_type": "markdown",
   "metadata": {},
   "source": [
    "On observe une augmentation du pourcentage d'achats des dépendances ; cela peut s'expliquer par le fait que beaucoup de personnes partent en voyage et ont donc besoin de stocker leurs biens pour une longue/courte durée.\n",
    "Egalement, une sorte d'exode rurale a eu lieu suite au Covid, donc les gens avaient besoin de stockage notamment pour leur moyen de locomotion."
   ]
  },
  {
   "cell_type": "markdown",
   "metadata": {},
   "source": [
    "## Etude sur la surface"
   ]
  },
  {
   "cell_type": "code",
   "execution_count": null,
   "metadata": {},
   "outputs": [],
   "source": [
    "df_surface=ventes\n",
    "df_surface['Surface terrain'].corr(df_surface['Surface reelle bati'])"
   ]
  },
  {
   "cell_type": "markdown",
   "metadata": {},
   "source": [
    "La corrélation entre la surface terrain et la surface construite est inexistante comme on peut le voir."
   ]
  },
  {
   "cell_type": "markdown",
   "metadata": {},
   "source": [
    "### Surface et nombres de pièces"
   ]
  },
  {
   "cell_type": "code",
   "execution_count": null,
   "metadata": {},
   "outputs": [],
   "source": [
    "df_nb_piece=df_surface.groupby(['Nombre pieces principales']).mean()\n",
    "df_nb_piece=df_nb_piece.reset_index()\n",
    "df_nb_piece"
   ]
  },
  {
   "cell_type": "code",
   "execution_count": null,
   "metadata": {},
   "outputs": [],
   "source": [
    "df_nb_piece.plot.scatter(x=\"Nombre pieces principales\",y=\"Surface terrain\",marker='+')"
   ]
  },
  {
   "cell_type": "code",
   "execution_count": null,
   "metadata": {},
   "outputs": [],
   "source": [
    "# voir après\n",
    "subset = foncier2022[foncier2022['Nombre pieces principales'] <= 20]\n",
    "correlation = subset['Nombre pieces principales'].corr(subset['Surface terrain'])\n",
    "correlation"
   ]
  },
  {
   "cell_type": "markdown",
   "metadata": {},
   "source": [
    "On observe une relation de linéarité entre la surface terrain et le nombre de pièces principales jusqu'à environ 20 pièces, après quoi la surface terrain n'augmente plus."
   ]
  },
  {
   "cell_type": "markdown",
   "metadata": {},
   "source": [
    "# Conclusion générale"
   ]
  },
  {
   "cell_type": "markdown",
   "metadata": {},
   "source": [
    "Globalement, les prix ont augmenté notamment accentués par la crise du Covid et, plus récemment, la guerre en Ukraine. Après les nombreux confinements, beaucoup de citadins ont acheté en zone rurale, après avoir ressenti l'étroitesse de la vie citadine."
   ]
  }
 ],
 "metadata": {
  "colab": {
   "provenance": []
  },
  "kernelspec": {
   "display_name": "Python 3 (ipykernel)",
   "language": "python",
   "name": "python3"
  },
  "language_info": {
   "codemirror_mode": {
    "name": "ipython",
    "version": 3
   },
   "file_extension": ".py",
   "mimetype": "text/x-python",
   "name": "python",
   "nbconvert_exporter": "python",
   "pygments_lexer": "ipython3",
   "version": "3.9.7"
  }
 },
 "nbformat": 4,
 "nbformat_minor": 1
}
